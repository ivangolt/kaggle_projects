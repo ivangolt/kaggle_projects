{
 "cells": [
  {
   "cell_type": "markdown",
   "metadata": {},
   "source": [
    "># **Work Flow of this notebook:**\n",
    "         \n",
    "          1.EDA on Numerical Features\n",
    "           - Data Cleaning\n",
    "           - Feature Generation\n",
    "           - Skewing\n",
    "           - Scaling\n",
    "          2.EDA on Categorical Features\n",
    "           - Data Cleaning \n",
    "          3.Regularization and Evaluation\n",
    "           - Ridge\n",
    "           - Lasso\n",
    "           - Random Forest Regressor\n",
    "           - XGB Regressor          "
   ]
  },
  {
   "cell_type": "code",
   "execution_count": 1,
   "metadata": {
    "_cell_guid": "79c7e3d0-c299-4dcb-8224-4455121ee9b0",
    "_uuid": "d629ff2d2480ee46fbb7e2d37f6b5fab8052498a"
   },
   "outputs": [
    {
     "name": "stderr",
     "output_type": "stream",
     "text": [
      "C:\\anaconda3\\Lib\\site-packages\\scipy\\__init__.py:155: UserWarning: A NumPy version >=1.18.5 and <1.26.0 is required for this version of SciPy (detected version 1.26.4\n",
      "  warnings.warn(f\"A NumPy version >={np_minversion} and <{np_maxversion}\"\n"
     ]
    }
   ],
   "source": [
    "import numpy as np \n",
    "import pandas as pd \n",
    "import matplotlib.pyplot as plt\n",
    "import seaborn as sns\n",
    "from sklearn.preprocessing import StandardScaler,RobustScaler\n",
    "from sklearn import preprocessing\n"
   ]
  },
  {
   "cell_type": "code",
   "execution_count": null,
   "metadata": {},
   "outputs": [],
   "source": [
    "train=pd.read_csv('train.csv')\n",
    "test=pd.read_csv('test.csv')"
   ]
  },
  {
   "cell_type": "code",
   "execution_count": null,
   "metadata": {},
   "outputs": [],
   "source": [
    "train.drop('Id',axis=1,inplace=True)\n",
    "test.drop('Id',axis=1,inplace=True)"
   ]
  },
  {
   "cell_type": "code",
   "execution_count": null,
   "metadata": {},
   "outputs": [],
   "source": [
    "train_n=train[[c for c in train.columns if train[c].dtypes!='O']].copy()\n",
    "test_n=test[[c for c in test.columns if test[c].dtypes!='O']].copy()\n",
    "\n",
    "train_c=train[[c for c in train.columns if train[c].dtypes=='O']].copy()\n",
    "test_c=test[[c for c in test.columns if test[c].dtypes=='O']].copy()"
   ]
  },
  {
   "cell_type": "markdown",
   "metadata": {},
   "source": [
    "# 1. **EDA on Numerical Features**\n",
    "\n",
    "\n",
    "**1.1 Removing non-linear and co-linear features**"
   ]
  },
  {
   "cell_type": "code",
   "execution_count": null,
   "metadata": {},
   "outputs": [],
   "source": [
    "corrmat=train_n.corr()\n",
    "# fig,ax=plt.subplots(figsize=(12,12))\n",
    "# sns.heatmap(corrmat,vmax=.8, square=True,ax=ax,annot=True, fmt='.2f', annot_kws={'size': 6})"
   ]
  },
  {
   "cell_type": "code",
   "execution_count": null,
   "metadata": {},
   "outputs": [],
   "source": [
    "n=15\n",
    "top15_cols=corrmat.nlargest(n,'SalePrice')['SalePrice'].index"
   ]
  },
  {
   "cell_type": "code",
   "execution_count": null,
   "metadata": {},
   "outputs": [],
   "source": [
    "corrmat_top15=train_n[top15_cols].corr()\n",
    "fig1,ax1=plt.subplots(figsize=(8,8))\n",
    "sns.heatmap(corrmat_top15,vmax=.8, square=True,ax=ax1,annot=True, fmt='.2f', annot_kws={'size': 12})"
   ]
  },
  {
   "cell_type": "markdown",
   "metadata": {},
   "source": [
    "**Co-linearity**:\n",
    "\n",
    "We will choose only one feature from each co-linear pair.\n",
    "\n",
    "* GarageCars and GarageArea \n",
    "* TotalBsmtSF and 1stFirSF \n",
    "* TotRmsAbvGrd and GrLIveArea \n",
    "\n",
    ">I choose GarageArea,TotalBsmtSF,GrLIveArea.I have made this decision by plotting below scatter plots."
   ]
  },
  {
   "cell_type": "code",
   "execution_count": null,
   "metadata": {},
   "outputs": [],
   "source": [
    "# sns.jointplot(x=train['OverallQual'], y=train['SalePrice'], kind='reg',color='skyblue',height=7)"
   ]
  },
  {
   "cell_type": "code",
   "execution_count": null,
   "metadata": {},
   "outputs": [],
   "source": [
    "train_n1=train_n.drop(['GarageCars','1stFlrSF','TotRmsAbvGrd'],axis=1)\n",
    "test_n1=test_n.drop(['GarageCars','1stFlrSF','TotRmsAbvGrd'],axis=1)"
   ]
  },
  {
   "cell_type": "markdown",
   "metadata": {},
   "source": [
    "We have removed co-linearity from our dataset, Now we will manually examine each feature and remove non-linear features from the dataset"
   ]
  },
  {
   "cell_type": "code",
   "execution_count": null,
   "metadata": {
    "scrolled": false
   },
   "outputs": [],
   "source": [
    "# fig,ax=plt.subplots(17,2,figsize=(15,60))\n",
    "# def graph(x,y,r,c,title):\n",
    "#     sns.scatterplot(train_n1[x],y,color=('orange'),ax=ax[r][c])\n",
    "#     ax[r][c].set_xlabel(x)\n",
    "#     fig.tight_layout(pad=5.0)\n",
    "\n",
    "# for r,col in enumerate(train_n1.columns):\n",
    "#     c=r%2\n",
    "#     graph(col,train['SalePrice'],r//2,c,col)\n"
   ]
  },
  {
   "cell_type": "markdown",
   "metadata": {},
   "source": [
    "<div>\n",
    "Some features are like categorical features.\n",
    "    <br><br>e.g.,OverallCond,BsmtFullBath,BsmtHalfBath,FullBath,HalfBath,BedroomAbvGr,Fireplaces,KitchenAbrGr,MoSold,YrSold.\n",
    "<br>\n",
    "<br>\n",
    "Although their type is Integer, We would treat them as a categorical feature in the next section [2.EDA on Categorical Features](#intLink)\n",
    "</div>"
   ]
  },
  {
   "cell_type": "code",
   "execution_count": null,
   "metadata": {},
   "outputs": [],
   "source": [
    "non_linear=['MSSubClass','LotArea','OverallCond','LowQualFinSF','BsmtFullBath', 'BsmtHalfBath','FullBath', 'HalfBath','BedroomAbvGr',\n",
    "            'KitchenAbvGr','Fireplaces','3SsnPorch','ScreenPorch' ,'PoolArea','MiscVal','MoSold', 'YrSold']\n",
    "print(\"total non-linear\",len(non_linear),\" columns\")"
   ]
  },
  {
   "cell_type": "code",
   "execution_count": null,
   "metadata": {},
   "outputs": [],
   "source": [
    "linear_features=np.array([col for col in train_n1.columns if col not in non_linear])"
   ]
  },
  {
   "cell_type": "markdown",
   "metadata": {},
   "source": [
    "We have removed some non-linear features from the dataset"
   ]
  },
  {
   "cell_type": "markdown",
   "metadata": {},
   "source": [
    "**1.2 Misssing Values**"
   ]
  },
  {
   "cell_type": "code",
   "execution_count": null,
   "metadata": {},
   "outputs": [],
   "source": [
    "# sns.set(style=\"whitegrid\")\n",
    "fig=plt.figure(figsize=(15,5))\n",
    "train_null=train_n1.isnull().sum()[train_n1.isnull().sum()!=0]\n",
    "sns.barplot(y=train_null.index,x=train_null)"
   ]
  },
  {
   "cell_type": "code",
   "execution_count": null,
   "metadata": {},
   "outputs": [],
   "source": [
    "# sns.set(style=\"whitegrid\")\n",
    "fig=plt.figure(figsize=(15,5))\n",
    "test_null=test_n1.isnull().sum()[test_n1.isnull().sum()!=0]\n",
    "sns.barplot(y=test_null.index,x=test_null)"
   ]
  },
  {
   "cell_type": "code",
   "execution_count": null,
   "metadata": {},
   "outputs": [],
   "source": [
    "train_n1['GarageYrBlt']=train_n1['GarageYrBlt'].fillna(train_n1['GarageYrBlt'].median())\n",
    "test_n1['GarageYrBlt']=test_n1['GarageYrBlt'].fillna(test_n1['GarageYrBlt'].median())\n",
    "\n",
    "for col in train_n1.columns:\n",
    "    train_n1[col] = train_n1[col].fillna(0)\n",
    "for col in test_n1.columns:\n",
    "    test_n1[col] = test_n1[col].fillna(0)"
   ]
  },
  {
   "cell_type": "code",
   "execution_count": null,
   "metadata": {},
   "outputs": [],
   "source": [
    "print(train_n1[linear_features].shape)\n",
    "print(test_n1[linear_features[:-1]].shape)"
   ]
  },
  {
   "cell_type": "code",
   "execution_count": null,
   "metadata": {},
   "outputs": [],
   "source": [
    "train_n1.isnull().sum()[train_n1.isnull().sum()!=0]"
   ]
  },
  {
   "cell_type": "code",
   "execution_count": null,
   "metadata": {},
   "outputs": [],
   "source": [
    "test_n1.isnull().sum()[test_n1.isnull().sum()!=0]"
   ]
  },
  {
   "cell_type": "markdown",
   "metadata": {},
   "source": [
    "**1.3 Feature Generation**"
   ]
  },
  {
   "cell_type": "code",
   "execution_count": null,
   "metadata": {},
   "outputs": [],
   "source": [
    "# fig,ax=plt.subplots(9,2,figsize=(15,40))\n",
    "# def graph(x,y,r,c,title):\n",
    "#     sns.scatterplot(train_n1[x],train_n1[y],color=('red'),ax=ax[r][c])\n",
    "#     ax[r][c].set_ylabel(y)\n",
    "#     ax[r][c].set_xlabel(x)\n",
    "#     fig.tight_layout(pad=5.0)\n",
    "\n",
    "# for r,col in enumerate(train_n1[linear_features].columns):\n",
    "#     c=r%2\n",
    "#     graph(col,'SalePrice',r//2,c,col)"
   ]
  },
  {
   "cell_type": "markdown",
   "metadata": {},
   "source": [
    ">* We can clearly see in the above graphs that features have so many zeros.\n",
    ">* That means many missing values are filled with zero."
   ]
  },
  {
   "cell_type": "code",
   "execution_count": null,
   "metadata": {},
   "outputs": [],
   "source": [
    "# train_n1['Bsmt']=train_n1['BsmtFinSF1']+train_n1['BsmtFinSF2']+train_n1['BsmtUnfSF']+train_n1['TotalBsmtSF']\n",
    "# test_n1['Bsmt']=test_n1['BsmtFinSF1']+test_n1['BsmtFinSF2']+test_n1['BsmtUnfSF']+test_n1['TotalBsmtSF']\n",
    "# sns.jointplot(train_n1['Bsmt'],train_n1['SalePrice'],kind='hex',color='purple')\n",
    "# # sns.jointplot(train_n1['BsmtFinSF1'],train_n1['SalePrice'],kind='reg',color='green')"
   ]
  },
  {
   "cell_type": "markdown",
   "metadata": {},
   "source": [
    "But this new TotalPorchSF feature is not linear with SalePrice so we will not use it ."
   ]
  },
  {
   "cell_type": "code",
   "execution_count": null,
   "metadata": {},
   "outputs": [],
   "source": [
    "linear_features"
   ]
  },
  {
   "cell_type": "code",
   "execution_count": null,
   "metadata": {},
   "outputs": [],
   "source": [
    "linear_features=['LotFrontage', 'OverallQual', 'YearBuilt', 'YearRemodAdd',\n",
    "       'MasVnrArea','Bsmt', '2ndFlrSF', 'GrLivArea', 'GarageYrBlt',\n",
    "       'GarageArea', 'WoodDeckSF', 'OpenPorchSF', 'EnclosedPorch']"
   ]
  },
  {
   "cell_type": "code",
   "execution_count": null,
   "metadata": {},
   "outputs": [],
   "source": [
    "train_n1[linear_features].columns"
   ]
  },
  {
   "cell_type": "code",
   "execution_count": null,
   "metadata": {},
   "outputs": [],
   "source": [
    "train_n1[linear_features].shape"
   ]
  },
  {
   "cell_type": "code",
   "execution_count": null,
   "metadata": {},
   "outputs": [],
   "source": [
    "test_n1[linear_features].shape"
   ]
  },
  {
   "cell_type": "markdown",
   "metadata": {},
   "source": [
    "**1.4 Outliers**"
   ]
  },
  {
   "cell_type": "markdown",
   "metadata": {},
   "source": [
    ">Outliers:\n",
    "\n",
    "     LotFrontage > 300 \n",
    "     MasVnrArea > 1200\n",
    "     Bsmt > 12000\n",
    "     GrLivArea > 4600\n",
    "     GarageArea > 1200\n",
    "     SalePrice > 700000"
   ]
  },
  {
   "cell_type": "code",
   "execution_count": null,
   "metadata": {},
   "outputs": [],
   "source": [
    "a=train_n1['LotFrontage'].sort_values(ascending=False).head(2)\n",
    "b=train_n1['MasVnrArea'].sort_values(ascending=False).head(2)\n",
    "c=train_n1['Bsmt'].sort_values(ascending=False).head(1)\n",
    "d=train_n1['GrLivArea'].sort_values(ascending=False).head(2)\n",
    "e=train_n1['GarageArea'].sort_values(ascending=False).head(3)\n",
    "f=train_n1['SalePrice'].sort_values(ascending=False).head(2)"
   ]
  },
  {
   "cell_type": "code",
   "execution_count": null,
   "metadata": {},
   "outputs": [],
   "source": [
    "index=a.index\n",
    "index=index.append(b.index)\n",
    "index=index.append(c.index)\n",
    "index=index.append(d.index)\n",
    "index=index.append(e.index)\n",
    "index=index.append(f.index)"
   ]
  },
  {
   "cell_type": "code",
   "execution_count": null,
   "metadata": {},
   "outputs": [],
   "source": [
    "train_n1=train_n1.drop(index).reset_index(drop=True)"
   ]
  },
  {
   "cell_type": "markdown",
   "metadata": {},
   "source": [
    ">we have removed the outliears manually"
   ]
  },
  {
   "cell_type": "code",
   "execution_count": null,
   "metadata": {},
   "outputs": [],
   "source": [
    "# fig,ax=plt.subplots(7,2,figsize=(15,30))\n",
    "# def graph(x,y,r,c,title):\n",
    "#     sns.regplot(train_n1[x],train_n1[y],color=('green'),ax=ax[r][c])\n",
    "#     ax[r][c].set_ylabel(y)\n",
    "#     ax[r][c].set_xlabel(x)\n",
    "#     fig.tight_layout(pad=5.0)\n",
    "\n",
    "# for r,col in enumerate(train_n1[linear_features].columns):\n",
    "#     c=r%2\n",
    "#     graph(col,'SalePrice',r//2,c,col)"
   ]
  },
  {
   "cell_type": "code",
   "execution_count": null,
   "metadata": {},
   "outputs": [],
   "source": [
    "print(train_n1.shape)\n",
    "print(train_n1[linear_features].shape)"
   ]
  },
  {
   "cell_type": "markdown",
   "metadata": {},
   "source": [
    "**1.5 Skewing the features**"
   ]
  },
  {
   "cell_type": "code",
   "execution_count": null,
   "metadata": {},
   "outputs": [],
   "source": [
    "Train_X_n=train_n1[linear_features]\n",
    "Train_Y_n=train_n1['SalePrice']"
   ]
  },
  {
   "cell_type": "code",
   "execution_count": null,
   "metadata": {},
   "outputs": [],
   "source": [
    "Train_X_n.skew()"
   ]
  },
  {
   "cell_type": "code",
   "execution_count": null,
   "metadata": {},
   "outputs": [],
   "source": [
    "fig,ax=plt.subplots(1,2,figsize=(20,5))\n",
    "sns.distplot(Train_Y_n,ax=ax[0],color='green')\n",
    "sns.distplot(np.log1p(Train_Y_n),ax=ax[1],color='green')\n",
    "# fig.tight_layout()"
   ]
  },
  {
   "cell_type": "code",
   "execution_count": null,
   "metadata": {},
   "outputs": [],
   "source": [
    "y_train=np.log1p(Train_Y_n)"
   ]
  },
  {
   "cell_type": "markdown",
   "metadata": {},
   "source": [
    "**1.6 scaling**"
   ]
  },
  {
   "cell_type": "code",
   "execution_count": null,
   "metadata": {},
   "outputs": [],
   "source": [
    "# scaler=StandardScaler()\n",
    "scaler=RobustScaler()\n",
    "final_train_n=pd.DataFrame(scaler.fit_transform(Train_X_n),columns=Train_X_n.columns)\n",
    "final_test_n=pd.DataFrame(scaler.fit_transform(test_n1[linear_features]),columns=Train_X_n.columns)"
   ]
  },
  {
   "cell_type": "code",
   "execution_count": null,
   "metadata": {},
   "outputs": [],
   "source": [
    "final_train_n.head()"
   ]
  },
  {
   "cell_type": "code",
   "execution_count": null,
   "metadata": {},
   "outputs": [],
   "source": [
    "final_test_n.head()"
   ]
  },
  {
   "cell_type": "markdown",
   "metadata": {},
   "source": [
    "# 2. **EDA on Categorical Features**"
   ]
  },
  {
   "cell_type": "markdown",
   "metadata": {},
   "source": [
    "**2.1 Missing values **"
   ]
  },
  {
   "cell_type": "code",
   "execution_count": null,
   "metadata": {},
   "outputs": [],
   "source": [
    "train_c=train[[c for c in train.columns if train[c].dtypes=='O']].copy()\n",
    "test_c=test[[c for c in test.columns if test[c].dtypes=='O']].copy()"
   ]
  },
  {
   "cell_type": "code",
   "execution_count": null,
   "metadata": {},
   "outputs": [],
   "source": [
    "# print(train_c.shape)\n",
    "fig=plt.figure(figsize=(10,5))\n",
    "train_null=train_c.isnull().sum()[train_c.isnull().sum()!=0].sort_values(ascending=False)\n",
    "sns.barplot(y=train_null.index,x=train_null)"
   ]
  },
  {
   "cell_type": "code",
   "execution_count": null,
   "metadata": {},
   "outputs": [],
   "source": [
    "fig=plt.figure(figsize=(10,5))\n",
    "test_null=test_c.isnull().sum()[test_c.isnull().sum()!=0].sort_values(ascending=False)\n",
    "sns.barplot(y=test_null.index,x=test_null)"
   ]
  },
  {
   "cell_type": "markdown",
   "metadata": {},
   "source": [
    "Drop first five columns "
   ]
  },
  {
   "cell_type": "code",
   "execution_count": null,
   "metadata": {},
   "outputs": [],
   "source": [
    "train_c.dropna(thresh=len(train_c)*0.9,axis=1,inplace=True)"
   ]
  },
  {
   "cell_type": "code",
   "execution_count": null,
   "metadata": {},
   "outputs": [],
   "source": [
    "test_c.dropna(thresh=len(test_c)*0.9,axis=1,inplace=True)"
   ]
  },
  {
   "cell_type": "code",
   "execution_count": null,
   "metadata": {},
   "outputs": [],
   "source": [
    "train_c['Electrical']=train_c['Electrical'].fillna(method='ffill')\n",
    "test_c['SaleType']=test_c['SaleType'].fillna(method='ffill')\n",
    "test_c['KitchenQual']=test_c['KitchenQual'].fillna(method='ffill')\n",
    "test_c['Exterior1st']=test_c['Exterior1st'].fillna(method='ffill')\n",
    "test_c['Exterior2nd']=test_c['Exterior2nd'].fillna(method='ffill')\n",
    "test_c['Functional']=test_c['Functional'].fillna(method='ffill')\n",
    "test_c['Utilities']=test_c['Utilities'].fillna(method='ffill')\n",
    "test_c['MSZoning']=test_c['MSZoning'].fillna(method='ffill')\n"
   ]
  },
  {
   "cell_type": "code",
   "execution_count": null,
   "metadata": {},
   "outputs": [],
   "source": [
    "# Categorical missing values\n",
    "for col in train_c.columns:\n",
    "    train_c[col] = train_c[col].fillna(\"None\")\n",
    "for col in test_c.columns:\n",
    "    test_c[col] = test_c[col].fillna(\"None\")"
   ]
  },
  {
   "cell_type": "code",
   "execution_count": null,
   "metadata": {},
   "outputs": [],
   "source": [
    "print(\"Train null values : \",len(train_c.isnull().sum()[train_c.isnull().sum()!=0]))\n",
    "print(\"Test null values : \",len(test_c.isnull().sum()[test_c.isnull().sum()!=0]))"
   ]
  },
  {
   "cell_type": "code",
   "execution_count": null,
   "metadata": {},
   "outputs": [],
   "source": [
    "train_c=train_c.drop(index).reset_index(drop=True)\n",
    "train_c.shape"
   ]
  },
  {
   "cell_type": "code",
   "execution_count": null,
   "metadata": {},
   "outputs": [],
   "source": [
    "test_c.shape"
   ]
  },
  {
   "cell_type": "markdown",
   "metadata": {},
   "source": [
    "<div id=\"intLink\">\n",
    "**2.2 Feature engineering**\n",
    "    </div>"
   ]
  },
  {
   "cell_type": "markdown",
   "metadata": {},
   "source": [
    "We had discussed about some numerical features which looked like categorical features. Now we will work on it in this section"
   ]
  },
  {
   "cell_type": "code",
   "execution_count": null,
   "metadata": {},
   "outputs": [],
   "source": [
    "num_train=train_n1[['OverallCond','BsmtFullBath', 'BsmtHalfBath', 'FullBath', 'HalfBath','KitchenAbvGr',\n",
    "'BedroomAbvGr','Fireplaces','MoSold','YrSold']]\n",
    "num_test=test_n1[['OverallCond','BsmtFullBath', 'BsmtHalfBath', 'FullBath', 'HalfBath','KitchenAbvGr',\n",
    "'BedroomAbvGr','Fireplaces','MoSold','YrSold']]\n",
    "print(num_train.shape)\n",
    "print(num_test.shape)\n",
    "numerical_categorical_feature=c = pd.concat((num_train,num_test),sort=False)\n",
    "print(numerical_categorical_feature.shape)\n",
    "numerical_categorical_feature=numerical_categorical_feature.astype('O')"
   ]
  },
  {
   "cell_type": "code",
   "execution_count": null,
   "metadata": {},
   "outputs": [],
   "source": [
    "sns.violinplot(x=num_train['OverallCond'],y=num_train['OverallCond'].index)"
   ]
  },
  {
   "cell_type": "code",
   "execution_count": null,
   "metadata": {},
   "outputs": [],
   "source": [
    "numerical_categorical_feature=pd.get_dummies(numerical_categorical_feature)\n",
    "num_train_dummy=numerical_categorical_feature[:1451]\n",
    "num_test_dummy=numerical_categorical_feature[1451:].reset_index(drop=True)\n",
    "print(num_train_dummy.shape)\n",
    "print(num_test_dummy.shape)"
   ]
  },
  {
   "cell_type": "markdown",
   "metadata": {},
   "source": [
    "**2.3 Get Dummies**"
   ]
  },
  {
   "cell_type": "code",
   "execution_count": null,
   "metadata": {},
   "outputs": [],
   "source": [
    "c = pd.concat((train_c, test_c), sort=False).reset_index(drop=True)"
   ]
  },
  {
   "cell_type": "code",
   "execution_count": null,
   "metadata": {},
   "outputs": [],
   "source": [
    "c1=pd.get_dummies(c)"
   ]
  },
  {
   "cell_type": "code",
   "execution_count": null,
   "metadata": {},
   "outputs": [],
   "source": [
    "final_train_c=c1.iloc[:train_c.shape[0]]\n",
    "# final_train_c=final_train_c.drop(index).reset_index(drop=True)\n",
    "final_train_c.shape"
   ]
  },
  {
   "cell_type": "code",
   "execution_count": null,
   "metadata": {},
   "outputs": [],
   "source": [
    "final_test_c=c1.iloc[train_c.shape[0]:]\n",
    "final_test_c=final_test_c.reset_index(drop=True)\n",
    "final_test_c.shape"
   ]
  },
  {
   "cell_type": "markdown",
   "metadata": {},
   "source": [
    "**2.4 merge the numerical_categorical_feature with final_test_c**"
   ]
  },
  {
   "cell_type": "code",
   "execution_count": null,
   "metadata": {},
   "outputs": [],
   "source": [
    "final_train_c=final_train_c.merge(num_train_dummy,left_index=True,right_index=True)\n",
    "final_test_c=final_test_c.merge(num_test_dummy,left_index=True,right_index=True)"
   ]
  },
  {
   "cell_type": "markdown",
   "metadata": {},
   "source": [
    "**2.5 Labeling only for XGB Regressor**"
   ]
  },
  {
   "cell_type": "code",
   "execution_count": null,
   "metadata": {},
   "outputs": [],
   "source": [
    "train_c_labeled=pd.DataFrame()\n",
    "test_c_labeled=pd.DataFrame()\n",
    "\n",
    "for col in train_c.columns:\n",
    "    le = preprocessing.LabelEncoder()\n",
    "    train_c_labeled[col]=le.fit_transform(train_c[col])\n",
    "    test_c_labeled[col]=le.fit_transform(test_c[col])"
   ]
  },
  {
   "cell_type": "code",
   "execution_count": null,
   "metadata": {},
   "outputs": [],
   "source": [
    "test_c_labeled"
   ]
  },
  {
   "cell_type": "code",
   "execution_count": null,
   "metadata": {},
   "outputs": [],
   "source": [
    "final_test_n"
   ]
  },
  {
   "cell_type": "markdown",
   "metadata": {},
   "source": [
    "# 3. Merging numerical and categorical data"
   ]
  },
  {
   "cell_type": "code",
   "execution_count": null,
   "metadata": {},
   "outputs": [],
   "source": [
    "x_train=final_train_n.merge(final_train_c,left_index=True,right_index=True).reset_index(drop=True)\n",
    "x_test=final_test_n.merge(final_test_c,left_index=True,right_index=True).reset_index(drop=True)"
   ]
  },
  {
   "cell_type": "markdown",
   "metadata": {},
   "source": [
    "**Merging for XGB Regressor**"
   ]
  },
  {
   "cell_type": "code",
   "execution_count": null,
   "metadata": {},
   "outputs": [],
   "source": [
    "x_train_xgb=final_train_n.merge(train_c_labeled,left_index=True,right_index=True).reset_index(drop=True)\n",
    "x_test_xgb=final_test_n.merge(test_c_labeled,left_index=True,right_index=True).reset_index(drop=True)"
   ]
  },
  {
   "cell_type": "code",
   "execution_count": null,
   "metadata": {},
   "outputs": [],
   "source": [
    "print(x_train.shape)\n",
    "print(x_test.shape)\n",
    "print(x_train_xgb.shape)\n",
    "print(x_test_xgb.shape)"
   ]
  },
  {
   "cell_type": "markdown",
   "metadata": {},
   "source": [
    "# 4. Splitting data into training and testing data"
   ]
  },
  {
   "cell_type": "code",
   "execution_count": null,
   "metadata": {},
   "outputs": [],
   "source": [
    "from sklearn.model_selection import train_test_split\n",
    "X_train, X_test, Y_train, Y_test = train_test_split(x_train, y_train,test_size = .3, random_state=0)"
   ]
  },
  {
   "cell_type": "markdown",
   "metadata": {},
   "source": [
    "# 5. **Regularization and Evaluation**"
   ]
  },
  {
   "cell_type": "markdown",
   "metadata": {},
   "source": [
    "**5.1 Ridge**"
   ]
  },
  {
   "cell_type": "code",
   "execution_count": null,
   "metadata": {},
   "outputs": [],
   "source": [
    "from sklearn.model_selection import GridSearchCV\n",
    "from sklearn.linear_model import Ridge\n",
    "from sklearn.metrics import mean_squared_error\n",
    "\n",
    "ridge=Ridge()\n",
    "parameters= {'alpha':[x for x in [0.1,0.2,0.4,0.5,0.7,0.8,1]]}\n",
    "\n",
    "ridge_reg=GridSearchCV(ridge, param_grid=parameters)\n",
    "ridge_reg.fit(X_train,Y_train)\n",
    "print(\"The best value of Alpha is: \",ridge_reg.best_params_)"
   ]
  },
  {
   "cell_type": "code",
   "execution_count": null,
   "metadata": {},
   "outputs": [],
   "source": [
    "ridge_mod=Ridge(alpha=1)\n",
    "ridge_mod.fit(x_train,y_train)\n",
    "y_pred_train=ridge_mod.predict(X_train)\n",
    "y_pred_test=ridge_mod.predict(X_test)\n",
    "\n",
    "print('Root Mean Square Error train = ' + str(np.sqrt(mean_squared_error(Y_train, y_pred_train))))\n",
    "print('Root Mean Square Error test = ' + str(np.sqrt(mean_squared_error(Y_test, y_pred_test)))) "
   ]
  },
  {
   "cell_type": "markdown",
   "metadata": {},
   "source": [
    "**5.2 Lasso**"
   ]
  },
  {
   "cell_type": "code",
   "execution_count": null,
   "metadata": {},
   "outputs": [],
   "source": [
    "from sklearn.linear_model import Lasso\n",
    "\n",
    "Lasso_reg =Lasso()\n",
    "parameters= {'alpha':[x for x in [0.0005,0.001,0.01,0.1,1]]}\n",
    "\n",
    "Lasso_reg=GridSearchCV(Lasso_reg, param_grid=parameters)\n",
    "Lasso_reg.fit(X_train,Y_train)\n",
    "print(\"The best value of Alpha is: \",Lasso_reg.best_params_,Lasso_reg.best_score_)"
   ]
  },
  {
   "cell_type": "code",
   "execution_count": null,
   "metadata": {},
   "outputs": [],
   "source": [
    "Lasso_reg =Lasso(alpha=0.0005)\n",
    "Lasso_reg.fit(x_train,y_train)\n",
    "y_pred_train=Lasso_reg.predict(X_train)\n",
    "y_pred_test=Lasso_reg.predict(X_test)\n",
    "\n",
    "print('Root Mean Square Error train = ' + str(np.sqrt(mean_squared_error(Y_train, y_pred_train))))\n",
    "print('Root Mean Square Error test = ' + str(np.sqrt(mean_squared_error(Y_test, y_pred_test)))) "
   ]
  },
  {
   "cell_type": "markdown",
   "metadata": {},
   "source": [
    "**5.3 Random Forest Regressor**"
   ]
  },
  {
   "cell_type": "code",
   "execution_count": null,
   "metadata": {},
   "outputs": [],
   "source": [
    "from sklearn.ensemble import RandomForestRegressor\n",
    "rf = RandomForestRegressor()\n",
    "params = {\"max_depth\":[15,20,25], \"n_estimators\":[27,30,33]}\n",
    "rf_reg = GridSearchCV(rf, params, cv = 10, n_jobs =10)\n",
    "rf_reg.fit(X_train, Y_train)\n",
    "print(rf_reg.best_estimator_)\n",
    "best_estimator=rf_reg.best_estimator_\n",
    "y_pred_train = best_estimator.predict(X_train)\n",
    "y_pred_test = best_estimator.predict(X_test)\n",
    "\n",
    "print('Root Mean Square Error train = ' + str(np.sqrt(mean_squared_error(Y_train, y_pred_train))))\n",
    "print('Root Mean Square Error test = ' + str(np.sqrt(mean_squared_error(Y_test, y_pred_test)))) "
   ]
  },
  {
   "cell_type": "markdown",
   "metadata": {},
   "source": [
    "**5.4 XGB Regressor**"
   ]
  },
  {
   "cell_type": "code",
   "execution_count": null,
   "metadata": {},
   "outputs": [],
   "source": [
    "X_train_xgb, X_test_xgb, Y_train_xgb, Y_test_xgb = train_test_split(x_train_xgb,y_train,test_size = 0.3, random_state=0)"
   ]
  },
  {
   "cell_type": "code",
   "execution_count": null,
   "metadata": {},
   "outputs": [],
   "source": [
    "import xgboost as xgb\n",
    "\n",
    "xgbr = xgb.XGBRegressor()\n",
    "params = {'learning_rate': [0.10,0.14,0.15,0.16, 0.2], 'max_depth': [1,2,3,5] }\n",
    "\n",
    "xgbr_reg = GridSearchCV(xgbr, params, cv = 10, n_jobs =1)\n",
    "xgbr_reg.fit(X_train_xgb,Y_train_xgb)\n",
    "\n",
    "print(\"Best params:{}\".format(xgbr_reg.best_params_))\n",
    "\n",
    "best_x = xgbr_reg.best_estimator_\n",
    "y_train_pred_x = best_x.predict(X_train_xgb)\n",
    "y_val_pred_x = best_x.predict(X_test_xgb)"
   ]
  },
  {
   "cell_type": "code",
   "execution_count": null,
   "metadata": {},
   "outputs": [],
   "source": [
    "print('Root Mean Square Error train = ' + str(np.sqrt(mean_squared_error(Y_train_xgb, y_train_pred_x))))\n",
    "print('Root Mean Square Error test = ' + str(np.sqrt(mean_squared_error(Y_test_xgb, y_val_pred_x)))) "
   ]
  },
  {
   "cell_type": "markdown",
   "metadata": {},
   "source": [
    "**5.3 Prediction**"
   ]
  },
  {
   "cell_type": "markdown",
   "metadata": {},
   "source": [
    "Ridge performs better than the Lasso on this dataset"
   ]
  },
  {
   "cell_type": "code",
   "execution_count": null,
   "metadata": {},
   "outputs": [],
   "source": [
    "y_test=ridge_mod.predict(x_test)"
   ]
  },
  {
   "cell_type": "code",
   "execution_count": null,
   "metadata": {},
   "outputs": [],
   "source": [
    "final_y_test=np.expm1(y_test)"
   ]
  },
  {
   "cell_type": "code",
   "execution_count": null,
   "metadata": {},
   "outputs": [],
   "source": [
    "final_y_test"
   ]
  },
  {
   "cell_type": "code",
   "execution_count": null,
   "metadata": {},
   "outputs": [],
   "source": [
    "sample=pd.read_csv('/kaggle/input/house-prices-advanced-regression-techniques/sample_submission.csv')\n",
    "submission=pd.DataFrame({\"Id\":sample['Id'],\n",
    "                         \"SalePrice\":final_y_test})\n",
    "submission.to_csv('submission.csv',index=False)"
   ]
  },
  {
   "cell_type": "code",
   "execution_count": null,
   "metadata": {},
   "outputs": [],
   "source": [
    "submission.head()"
   ]
  }
 ],
 "metadata": {
  "kernelspec": {
   "display_name": "Python 3 (ipykernel)",
   "language": "python",
   "name": "python3"
  },
  "language_info": {
   "codemirror_mode": {
    "name": "ipython",
    "version": 3
   },
   "file_extension": ".py",
   "mimetype": "text/x-python",
   "name": "python",
   "nbconvert_exporter": "python",
   "pygments_lexer": "ipython3",
   "version": "3.11.3"
  },
  "toc": {
   "base_numbering": 1,
   "nav_menu": {},
   "number_sections": true,
   "sideBar": true,
   "skip_h1_title": false,
   "title_cell": "Table of Contents",
   "title_sidebar": "Contents",
   "toc_cell": false,
   "toc_position": {},
   "toc_section_display": true,
   "toc_window_display": false
  }
 },
 "nbformat": 4,
 "nbformat_minor": 4
}
